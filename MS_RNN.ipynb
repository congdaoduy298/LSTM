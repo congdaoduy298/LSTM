{
  "nbformat": 4,
  "nbformat_minor": 0,
  "metadata": {
    "colab": {
      "name": "MS_RNN.ipynb",
      "provenance": [],
      "collapsed_sections": []
    },
    "kernelspec": {
      "name": "python3",
      "display_name": "Python 3"
    },
    "accelerator": "GPU"
  },
  "cells": [
    {
      "cell_type": "code",
      "metadata": {
        "id": "mBemQOSBiUOn",
        "colab_type": "code",
        "outputId": "70f348ab-9d3a-475c-ebf9-53651bdc1b16",
        "colab": {
          "base_uri": "https://localhost:8080/",
          "height": 191
        }
      },
      "source": [
        "%tensorflow_version 2.x\n",
        "import tensorflow as tf\n",
        "import numpy as np \n",
        "!pip install mitdeeplearning\n",
        "import mitdeeplearning as mdl \n",
        "!apt-get install abcmidi timidity > /dev/null 2>&1\n",
        "\n",
        "assert len(tf.config.list_physical_devices(\"GPU\")) > 0"
      ],
      "execution_count": 0,
      "outputs": [
        {
          "output_type": "stream",
          "text": [
            "Requirement already satisfied: mitdeeplearning in /usr/local/lib/python3.6/dist-packages (0.1.2)\n",
            "Requirement already satisfied: regex in /usr/local/lib/python3.6/dist-packages (from mitdeeplearning) (2019.12.20)\n",
            "Requirement already satisfied: numpy in /tensorflow-2.1.0/python3.6 (from mitdeeplearning) (1.18.1)\n",
            "Requirement already satisfied: tqdm in /usr/local/lib/python3.6/dist-packages (from mitdeeplearning) (4.28.1)\n",
            "Requirement already satisfied: gym in /usr/local/lib/python3.6/dist-packages (from mitdeeplearning) (0.15.6)\n",
            "Requirement already satisfied: six in /tensorflow-2.1.0/python3.6 (from gym->mitdeeplearning) (1.14.0)\n",
            "Requirement already satisfied: scipy in /tensorflow-2.1.0/python3.6 (from gym->mitdeeplearning) (1.4.1)\n",
            "Requirement already satisfied: cloudpickle~=1.2.0 in /usr/local/lib/python3.6/dist-packages (from gym->mitdeeplearning) (1.2.2)\n",
            "Requirement already satisfied: pyglet<=1.5.0,>=1.4.0 in /usr/local/lib/python3.6/dist-packages (from gym->mitdeeplearning) (1.4.10)\n",
            "Requirement already satisfied: future in /usr/local/lib/python3.6/dist-packages (from pyglet<=1.5.0,>=1.4.0->gym->mitdeeplearning) (0.16.0)\n"
          ],
          "name": "stdout"
        }
      ]
    },
    {
      "cell_type": "code",
      "metadata": {
        "id": "kTj2zYLqjIus",
        "colab_type": "code",
        "colab": {}
      },
      "source": [
        "songs = mdl.lab1.load_training_data()"
      ],
      "execution_count": 0,
      "outputs": []
    },
    {
      "cell_type": "code",
      "metadata": {
        "id": "46jTkQi-jj1O",
        "colab_type": "code",
        "outputId": "cb67e7c7-406d-4f9b-946d-f013c1d2762a",
        "colab": {
          "base_uri": "https://localhost:8080/",
          "height": 139
        }
      },
      "source": [
        "text = \"\\n\\n\".join(songs)\n",
        "print(text[:100])"
      ],
      "execution_count": 0,
      "outputs": [
        {
          "output_type": "stream",
          "text": [
            "X:2\n",
            "T:An Buachaill Dreoite\n",
            "Z: id:dc-hornpipe-2\n",
            "M:C|\n",
            "L:1/8\n",
            "K:G Major\n",
            "GF|DGGB d2GB|d2GF Gc (3AGF|DGGB \n"
          ],
          "name": "stdout"
        }
      ]
    },
    {
      "cell_type": "code",
      "metadata": {
        "id": "e28Oa40_jumU",
        "colab_type": "code",
        "outputId": "b842f7f6-61e3-4ba8-d6c8-4184ec5d489b",
        "colab": {
          "base_uri": "https://localhost:8080/",
          "height": 52
        }
      },
      "source": [
        "# Create vocabulary and two dictionaries \n",
        "vocab = list(set(text))\n",
        "char2idx = {ch:i for i,ch in enumerate(vocab)}\n",
        "idx2char = {i:ch for i,ch in enumerate(vocab)}\n",
        "int_text = [char2idx[ch] for ch in text]\n",
        "print(\"Has %d characters in vocabulary.\" %len(vocab))\n",
        "print(int_text[:30])"
      ],
      "execution_count": 0,
      "outputs": [
        {
          "output_type": "stream",
          "text": [
            "Has 83 characters in vocabulary.\n",
            "[43, 56, 37, 57, 44, 56, 46, 40, 81, 74, 36, 2, 34, 64, 2, 31, 80, 80, 81, 55, 38, 32, 1, 31, 17, 32, 57, 24, 56, 81]\n"
          ],
          "name": "stdout"
        }
      ]
    },
    {
      "cell_type": "code",
      "metadata": {
        "id": "Ok7fwYE-ki9D",
        "colab_type": "code",
        "colab": {}
      },
      "source": [
        "def get_batch(arr, batch_size, seq_length):\n",
        "  n = len(arr) - seq_length - 1 \n",
        "  idx = np.random.choice(n, batch_size)\n",
        "  x_batch = [arr[i:i+seq_length] for i in idx]\n",
        "  y_batch = [arr[i+1:i+seq_length+1] for i in idx]\n",
        "\n",
        "  x_batch = np.reshape(x_batch, [batch_size, seq_length])\n",
        "  y_batch = np.reshape(y_batch, [batch_size, seq_length])\n",
        "\n",
        "  return x_batch, y_batch "
      ],
      "execution_count": 0,
      "outputs": []
    },
    {
      "cell_type": "code",
      "metadata": {
        "id": "4odXNOGxnlvI",
        "colab_type": "code",
        "outputId": "f3a86cef-cd34-442d-f4ba-d2259baa7cde",
        "colab": {
          "base_uri": "https://localhost:8080/",
          "height": 260
        }
      },
      "source": [
        "# Define model \n",
        "from tensorflow.keras import Sequential\n",
        "from tensorflow.keras.layers import Dense, LSTM, Embedding\n",
        "\n",
        "def build_model(vocab_size, embedding_dim, rnn_units, batch_size):\n",
        "  model = Sequential([\n",
        "                    Embedding(vocab_size, embedding_dim, batch_input_shape=[batch_size, None]),\n",
        "                    LSTM(rnn_units, return_sequences=True, \n",
        "                         recurrent_initializer='glorot_uniform',\n",
        "                         recurrent_activation='sigmoid', stateful=True),\n",
        "                    Dense(vocab_size)\n",
        "  ])\n",
        "  return model \n",
        "\n",
        "vocab_size = len(vocab)\n",
        "embedding_dim = 256\n",
        "rnn_units = 1024\n",
        "batch_size = 32 \n",
        "\n",
        "model = build_model(vocab_size, embedding_dim, rnn_units, batch_size)\n",
        "model.summary()"
      ],
      "execution_count": 0,
      "outputs": [
        {
          "output_type": "stream",
          "text": [
            "Model: \"sequential_2\"\n",
            "_________________________________________________________________\n",
            "Layer (type)                 Output Shape              Param #   \n",
            "=================================================================\n",
            "embedding_2 (Embedding)      (32, None, 256)           21248     \n",
            "_________________________________________________________________\n",
            "lstm_2 (LSTM)                (32, None, 1024)          5246976   \n",
            "_________________________________________________________________\n",
            "dense_2 (Dense)              (32, None, 83)            85075     \n",
            "=================================================================\n",
            "Total params: 5,353,299\n",
            "Trainable params: 5,353,299\n",
            "Non-trainable params: 0\n",
            "_________________________________________________________________\n"
          ],
          "name": "stdout"
        }
      ]
    },
    {
      "cell_type": "code",
      "metadata": {
        "id": "mScstNWlxWOy",
        "colab_type": "code",
        "colab": {}
      },
      "source": [
        "# Define loss function \n",
        "def compute_loss(labels, logits):\n",
        "  loss = tf.keras.losses.sparse_categorical_crossentropy(labels, logits, from_logits=True)\n",
        "  return loss "
      ],
      "execution_count": 0,
      "outputs": []
    },
    {
      "cell_type": "code",
      "metadata": {
        "id": "bLxvJtBLywJz",
        "colab_type": "code",
        "colab": {}
      },
      "source": [
        "@tf.function\n",
        "def train_step(x, y):\n",
        "  with tf.GradientTape() as g:\n",
        "    y_hat = model(x)\n",
        "    loss = compute_loss(y, y_hat)\n",
        "  grads = g.gradient(loss, model.trainable_variables)\n",
        "  optimizer.apply_gradients(zip(grads, model.trainable_variables))\n",
        "  return loss "
      ],
      "execution_count": 0,
      "outputs": []
    },
    {
      "cell_type": "code",
      "metadata": {
        "id": "DTo294NDtvHj",
        "colab_type": "code",
        "outputId": "c59d5aab-89ee-4962-e3cb-01fd5a7a90d4",
        "colab": {
          "base_uri": "https://localhost:8080/",
          "height": 34
        }
      },
      "source": [
        "from tqdm import tqdm\n",
        "# Train model \n",
        "training_iterations = 2000\n",
        "learning_rate = 5e-3\n",
        "seq_length = 100\n",
        "optimizer = tf.keras.optimizers.Adam(learning_rate)\n",
        "checkpoint = 'train_model'\n",
        "losses = []\n",
        "\n",
        "for i in tqdm(range(training_iterations)):\n",
        "  x_batch, y_batch = get_batch(int_text, batch_size, seq_length)\n",
        "  loss = train_step(x_batch,y_batch)\n",
        "  losses.append(loss.numpy().mean())\n",
        "\n",
        "model.save_weights(checkpoint)"
      ],
      "execution_count": 0,
      "outputs": [
        {
          "output_type": "stream",
          "text": [
            "100%|██████████| 2000/2000 [01:23<00:00, 24.77it/s]\n"
          ],
          "name": "stderr"
        }
      ]
    },
    {
      "cell_type": "code",
      "metadata": {
        "id": "ktlGzpRz40cl",
        "colab_type": "code",
        "outputId": "490b54f3-2038-48c1-80aa-e75368c6042c",
        "colab": {
          "base_uri": "https://localhost:8080/",
          "height": 282
        }
      },
      "source": [
        "import matplotlib.pyplot as plt\n",
        "%matplotlib inline \n",
        "\n",
        "plt.plot(losses)"
      ],
      "execution_count": 0,
      "outputs": [
        {
          "output_type": "execute_result",
          "data": {
            "text/plain": [
              "[<matplotlib.lines.Line2D at 0x7f5329f8c390>]"
            ]
          },
          "metadata": {
            "tags": []
          },
          "execution_count": 10
        },
        {
          "output_type": "display_data",
          "data": {
            "image/png": "[encoded data removed]",
            "text/plain": [
              "<Figure size 432x288 with 1 Axes>"
            ]
          },
          "metadata": {
            "tags": []
          }
        }
      ]
    },
    {
      "cell_type": "code",
      "metadata": {
        "id": "AcTd6sfNuHN6",
        "colab_type": "code",
        "colab": {}
      },
      "source": [
        "def generate_text(start_string, length_str):\n",
        "  inp_val = [char2idx[s] for s in start_string]\n",
        "  inp_val = np.expand_dims(inp_val, 0)\n",
        "  print(inp_val)\n",
        "  string = []\n",
        "\n",
        "  for i in range(length_str):\n",
        "    out = model(inp_val)\n",
        "    out = tf.squeeze(out, 0)\n",
        "    predicted = tf.random.categorical(out, num_samples=1)[-1, 0].numpy()\n",
        "    inp_val = np.expand_dims([predicted], 0)\n",
        "    string.append(idx2char[predicted])\n",
        "  \n",
        "  return start_string + ''.join(string)"
      ],
      "execution_count": 0,
      "outputs": []
    },
    {
      "cell_type": "code",
      "metadata": {
        "id": "TFL4-PGp3EOe",
        "colab_type": "code",
        "outputId": "b91876d0-cafc-48ed-d9a8-a5fc51cefa8b",
        "colab": {
          "base_uri": "https://localhost:8080/",
          "height": 260
        }
      },
      "source": [
        "model = build_model(vocab_size, embedding_dim, rnn_units, batch_size=1)\n",
        "model.load_weights(checkpoint)\n",
        "model.build(tf.TensorShape([1, None]))\n",
        "model.summary()"
      ],
      "execution_count": 0,
      "outputs": [
        {
          "output_type": "stream",
          "text": [
            "Model: \"sequential_3\"\n",
            "_________________________________________________________________\n",
            "Layer (type)                 Output Shape              Param #   \n",
            "=================================================================\n",
            "embedding_3 (Embedding)      (1, None, 256)            21248     \n",
            "_________________________________________________________________\n",
            "lstm_3 (LSTM)                (1, None, 1024)           5246976   \n",
            "_________________________________________________________________\n",
            "dense_3 (Dense)              (1, None, 83)             85075     \n",
            "=================================================================\n",
            "Total params: 5,353,299\n",
            "Trainable params: 5,353,299\n",
            "Non-trainable params: 0\n",
            "_________________________________________________________________\n"
          ],
          "name": "stdout"
        }
      ]
    },
    {
      "cell_type": "code",
      "metadata": {
        "id": "fnYhUUml20a8",
        "colab_type": "code",
        "outputId": "faabf6b1-b454-410d-cc99-26c4f5e4e567",
        "colab": {
          "base_uri": "https://localhost:8080/",
          "height": 34
        }
      },
      "source": [
        "generated_text = generate_text(start_string='E', length_str=1000)"
      ],
      "execution_count": 0,
      "outputs": [
        {
          "output_type": "stream",
          "text": [
            "[[53]]\n"
          ],
          "name": "stdout"
        }
      ]
    },
    {
      "cell_type": "code",
      "metadata": {
        "id": "N6e64mk42-kI",
        "colab_type": "code",
        "outputId": "10cec431-19c2-480c-c6a6-b62dd6b8554c",
        "colab": {
          "base_uri": "https://localhost:8080/",
          "height": 990
        }
      },
      "source": [
        "print(generated_text)"
      ],
      "execution_count": 0,
      "outputs": [
        {
          "output_type": "stream",
          "text": [
            "Eaf gfed|BdAc BAGB:|!\n",
            "A2eA fAeA|EBBA Bcde|f2ed Bdef|gedc BGGB|cAFG AGGA|BGGd BGGB|AcBA GEE:|!\n",
            "g|eaa2 edBd|eaaf gedB|DEGA BAGF|ABcA d2:|!\n",
            "\n",
            "X:93\n",
            "T:Fanny Powe\n",
            "Z: id:dc-polka-8\n",
            "M:2/4\n",
            "L:1/8\n",
            "K:A Dorian\n",
            "B,|E3 BEE|F3 EDE|BAA A:|!\n",
            "\n",
            "X:34\n",
            "T:Dalaigh's\n",
            "Z: id:dc-reel-362\n",
            "M:C\n",
            "L:1/8\n",
            "K:A Dorian\n",
            "C|A,A,2 CD|GFG AcB|c2A d2d|!\n",
            "e2a a2f g2d|efe edB|GBd gba|gfg e2f gec|BAG A:|!\n",
            "\n",
            "X:10\n",
            "T:Kiss the Mig White\n",
            "Z: id:dc-ocarolan-8\n",
            "M:C\n",
            "L:1/8\n",
            "K:G Major\n",
            "Bc|d2f2 d2ef|dcBc dedB|A2AB A2FA|Bdef edBA|Beed e2:|!\n",
            "GB|AddB DAFA|DBBA BdAF|EDFD BDAD|GFEC B,EE2:|!\n",
            "\n",
            "X:309\n",
            "T:Roving Barley\n",
            "Z: id:dc-slide-39\n",
            "M:6/8\n",
            "L:1/8\n",
            "K:G Major\n",
            "D2|Gg g2 f2|e2 f2 g2|dedc BGBc|dggf g2fe|!\n",
            "d2cB gecA|defg a2^ga|A=BcA ed=cA|GEcE dEcGE DEGA|BAGB ADFA|!\n",
            "d2|d4 e2|B4 AG|E4 FD2:|!\n",
            "A|d2e f2a a2f e2d|BA Bcde|fedB cAFA|]!\n",
            "\n",
            "X:321\n",
            "T:Silver Lasses\n",
            "Z: id:dc-reel-217\n",
            "M:C\n",
            "L:1/8\n",
            "K:D Minor\n",
            "C|A,DFA D2Bc|!\n",
            "dAaA gAfA|eee2 Bee2|dfaf gfe^c|dc-97\n",
            "M:2/4\n",
            "L:1/8\n",
            "K:E Dorian\n",
            "E>F GA|Be B2|fe dc/B/|cA G:|!\n",
            "K:A Dorian\n",
            "A|d2 Bc de|dc Bc|EB,A, DB,G,|A,B,D FBdB|AFEG FDDF:|[2 GABc d2cA|!\n",
            "B2\n"
          ],
          "name": "stdout"
        }
      ]
    },
    {
      "cell_type": "code",
      "metadata": {
        "id": "TtoNMUrm4_9N",
        "colab_type": "code",
        "outputId": "0149d069-8282-4938-ec2b-8d2aa7a32bbc",
        "colab": {
          "base_uri": "https://localhost:8080/",
          "height": 281
        }
      },
      "source": [
        "from IPython import display as ipythondisplay\n",
        "\n",
        "generated_songs = mdl.lab1.extract_song_snippet(generated_text)\n",
        "\n",
        "for i, song in enumerate(generated_songs):\n",
        "  waveform = mdl.lab1.play_song(song)\n",
        "  if waveform:\n",
        "    print(\"Generating song \", i)\n",
        "    ipythondisplay.display(waveform)"
      ],
      "execution_count": 0,
      "outputs": []
    },
    {
      "cell_type": "code",
      "metadata": {
        "id": "k6b4oIWdCE_h",
        "colab_type": "code",
        "colab": {}
      },
      "source": [
        ""
      ],
      "execution_count": 0,
      "outputs": []
    }
  ]
}